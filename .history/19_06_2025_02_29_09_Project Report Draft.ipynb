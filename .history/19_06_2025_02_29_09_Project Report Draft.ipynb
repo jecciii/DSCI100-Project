{
 "cells": [
  {
   "cell_type": "markdown",
   "id": "ce6c691e-acda-40d3-b400-13d8bd7c2273",
   "metadata": {},
   "source": [
    "# Project\n",
    "\n",
    "### Github Repository: https://github.com/jecciii/DSCI100-Project"
   ]
  },
  {
   "cell_type": "markdown",
   "id": "112e197d-426c-467f-b51c-8b88b7229f6c",
   "metadata": {},
   "source": [
    "## Introduction\n",
    "\n",
    "### Background\n",
    "Video games have become an increasingly important platform in our recent world. In academic settings, multiplayer games like Minecraft offer a controlled yet dynamic environment where player behavior can be observed in detail. A research group at the University of British Columbia has launched a dedicated Minecraft server to collect such data, aiming to better understand how players interact with the game world and with each other.\n",
    "In this project, we focus on one specific variable: newsletter subscription. Subscribing to a game-related newsletter may indicate greater player engagement, curiosity about project updates, or willingness to participate in ongoing research. Understanding which player characteristics and behaviors are associated with newsletter subscriptions can help researchers improve in-game experiences, and allocate resources more effectively.\n",
    "\n",
    "### Question\n",
    "Can play time predict newsletter subscription in the Minecraft players.csv dataset?\n",
    "\n",
    "### Data Description\n",
    "This project uses the `players.csv` dataset from UBC provided. Each row represents a unique player and includes information such as total hours played (`played_hours`), experience level (`experience`), `age`, `gender`, and whether they subscribed to the newsletter (`subscribe`). The response variable in our classification task is subscribe, which indicates if the player signed up for the newsletter. The primary explanatory variable is `played_hours`, representing the total time a player has spent in the game. Other columns like `name` and `hashedEmail` are excluded from analysis due to  irrelevance. This dataset allows us to explore whether play time alone is a meaningful predictor of newsletter subscription. Rows with missing or invalid values will be removed during data cleaning."
   ]
  },
  {
   "cell_type": "markdown",
   "id": "0c98e764-f9e7-4a00-ba1c-03c62aece3df",
   "metadata": {},
   "source": [
    "## Methods & Results"
   ]
  },
  {
   "cell_type": "code",
   "execution_count": null,
   "id": "cf30f7da-3141-46cf-8cdf-dec68f95cd08",
   "metadata": {},
   "outputs": [],
   "source": [
    "library(tidyverse)"
   ]
  },
  {
   "cell_type": "code",
   "execution_count": null,
   "id": "e5df01b5-2164-42b3-8e9f-72347bb66dbf",
   "metadata": {},
   "outputs": [],
   "source": [
    "players <- read_csv(\"players.csv\")\n",
    "head (players)"
   ]
  },
  {
   "cell_type": "code",
   "execution_count": null,
   "id": "810744f9-9a89-439a-98fe-f286e46e1e15",
   "metadata": {},
   "outputs": [],
   "source": []
  }
 ],
 "metadata": {
  "kernelspec": {
   "display_name": "R",
   "language": "R",
   "name": "ir"
  },
  "language_info": {
   "codemirror_mode": "r",
   "file_extension": ".r",
   "mimetype": "text/x-r-source",
   "name": "R",
   "pygments_lexer": "r",
   "version": "4.3.3"
  }
 },
 "nbformat": 4,
 "nbformat_minor": 5
}
