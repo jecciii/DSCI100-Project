{
 "cells": [
  {
   "cell_type": "markdown",
   "id": "ce6c691e-acda-40d3-b400-13d8bd7c2273",
   "metadata": {},
   "source": [
    "# Project\n",
    "\n",
    "### Github Repository: https://github.com/jecciii/DSCI100-Project"
   ]
  },
  {
   "cell_type": "markdown",
   "id": "112e197d-426c-467f-b51c-8b88b7229f6c",
   "metadata": {},
   "source": [
    "## Introduction\n",
    "\n",
    "### Background\n",
    "Video games have become an increasingly important platform in our recent world. In academic settings, multiplayer games like Minecraft offer a controlled yet dynamic environment where player behavior can be observed in detail. A research group at the University of British Columbia has launched a dedicated Minecraft server to collect such data, aiming to better understand how players interact with the game world and with each other.\n",
    "In this project, we focus on one specific variable: newsletter subscription. Subscribing to a game-related newsletter may indicate greater player engagement, curiosity about project updates, or willingness to participate in ongoing research. Understanding which player characteristics and behaviors are associated with newsletter subscriptions can help researchers improve in-game experiences, and allocate resources more effectively.\n",
    "\n",
    "### Question\n",
    "Can play time and experience level predict newsletter subscription in the Minecraft players.csv dataset?\n",
    "\n",
    "### Data Description\n",
    "This project uses the `players.csv` dataset from UBC provided. Each row represents a unique player and includes information such as total hours played (`played_hours`), experience level (`experience`), `age`, `gender`, and whether they subscribed to the newsletter (`subscribe`). The response variable in our classification task is subscribe, which indicates if the player signed up for the newsletter. The primary explanatory variable is `played_hours`, representing the total time a player has spent in the game. Other columns like `name` and `hashedEmail` are excluded from analysis due to  irrelevance. This dataset allows us to explore whether play time alone is a meaningful predictor of newsletter subscription. Rows with missing or invalid values will be removed during data cleaning."
   ]
  },
  {
   "cell_type": "markdown",
   "id": "0c98e764-f9e7-4a00-ba1c-03c62aece3df",
   "metadata": {},
   "source": [
    "## Methods & Results"
   ]
  },
  {
   "cell_type": "code",
   "execution_count": 2,
   "id": "cf30f7da-3141-46cf-8cdf-dec68f95cd08",
   "metadata": {},
   "outputs": [
    {
     "name": "stderr",
     "output_type": "stream",
     "text": [
      "── \u001b[1mAttaching core tidyverse packages\u001b[22m ──────────────────────── tidyverse 2.0.0 ──\n",
      "\u001b[32m✔\u001b[39m \u001b[34mdplyr    \u001b[39m 1.1.4     \u001b[32m✔\u001b[39m \u001b[34mreadr    \u001b[39m 2.1.5\n",
      "\u001b[32m✔\u001b[39m \u001b[34mforcats  \u001b[39m 1.0.0     \u001b[32m✔\u001b[39m \u001b[34mstringr  \u001b[39m 1.5.1\n",
      "\u001b[32m✔\u001b[39m \u001b[34mggplot2  \u001b[39m 3.5.1     \u001b[32m✔\u001b[39m \u001b[34mtibble   \u001b[39m 3.2.1\n",
      "\u001b[32m✔\u001b[39m \u001b[34mlubridate\u001b[39m 1.9.3     \u001b[32m✔\u001b[39m \u001b[34mtidyr    \u001b[39m 1.3.1\n",
      "\u001b[32m✔\u001b[39m \u001b[34mpurrr    \u001b[39m 1.0.2     \n",
      "── \u001b[1mConflicts\u001b[22m ────────────────────────────────────────── tidyverse_conflicts() ──\n",
      "\u001b[31m✖\u001b[39m \u001b[34mdplyr\u001b[39m::\u001b[32mfilter()\u001b[39m masks \u001b[34mstats\u001b[39m::filter()\n",
      "\u001b[31m✖\u001b[39m \u001b[34mdplyr\u001b[39m::\u001b[32mlag()\u001b[39m    masks \u001b[34mstats\u001b[39m::lag()\n",
      "\u001b[36mℹ\u001b[39m Use the conflicted package (\u001b[3m\u001b[34m<http://conflicted.r-lib.org/>\u001b[39m\u001b[23m) to force all conflicts to become errors\n",
      "── \u001b[1mAttaching packages\u001b[22m ────────────────────────────────────── tidymodels 1.1.1 ──\n",
      "\n",
      "\u001b[32m✔\u001b[39m \u001b[34mbroom       \u001b[39m 1.0.6     \u001b[32m✔\u001b[39m \u001b[34mrsample     \u001b[39m 1.2.1\n",
      "\u001b[32m✔\u001b[39m \u001b[34mdials       \u001b[39m 1.3.0     \u001b[32m✔\u001b[39m \u001b[34mtune        \u001b[39m 1.1.2\n",
      "\u001b[32m✔\u001b[39m \u001b[34minfer       \u001b[39m 1.0.7     \u001b[32m✔\u001b[39m \u001b[34mworkflows   \u001b[39m 1.1.4\n",
      "\u001b[32m✔\u001b[39m \u001b[34mmodeldata   \u001b[39m 1.4.0     \u001b[32m✔\u001b[39m \u001b[34mworkflowsets\u001b[39m 1.0.1\n",
      "\u001b[32m✔\u001b[39m \u001b[34mparsnip     \u001b[39m 1.2.1     \u001b[32m✔\u001b[39m \u001b[34myardstick   \u001b[39m 1.3.1\n",
      "\u001b[32m✔\u001b[39m \u001b[34mrecipes     \u001b[39m 1.1.0     \n",
      "\n",
      "── \u001b[1mConflicts\u001b[22m ───────────────────────────────────────── tidymodels_conflicts() ──\n",
      "\u001b[31m✖\u001b[39m \u001b[34mscales\u001b[39m::\u001b[32mdiscard()\u001b[39m masks \u001b[34mpurrr\u001b[39m::discard()\n",
      "\u001b[31m✖\u001b[39m \u001b[34mdplyr\u001b[39m::\u001b[32mfilter()\u001b[39m   masks \u001b[34mstats\u001b[39m::filter()\n",
      "\u001b[31m✖\u001b[39m \u001b[34mrecipes\u001b[39m::\u001b[32mfixed()\u001b[39m  masks \u001b[34mstringr\u001b[39m::fixed()\n",
      "\u001b[31m✖\u001b[39m \u001b[34mdplyr\u001b[39m::\u001b[32mlag()\u001b[39m      masks \u001b[34mstats\u001b[39m::lag()\n",
      "\u001b[31m✖\u001b[39m \u001b[34myardstick\u001b[39m::\u001b[32mspec()\u001b[39m masks \u001b[34mreadr\u001b[39m::spec()\n",
      "\u001b[31m✖\u001b[39m \u001b[34mrecipes\u001b[39m::\u001b[32mstep()\u001b[39m   masks \u001b[34mstats\u001b[39m::step()\n",
      "\u001b[34m•\u001b[39m Search for functions across packages at \u001b[32mhttps://www.tidymodels.org/find/\u001b[39m\n",
      "\n"
     ]
    }
   ],
   "source": [
    "library(tidyverse)\n",
    "library(tidymodels)\n",
    "library(tune)"
   ]
  },
  {
   "cell_type": "code",
   "execution_count": 3,
   "id": "e5df01b5-2164-42b3-8e9f-72347bb66dbf",
   "metadata": {},
   "outputs": [
    {
     "name": "stderr",
     "output_type": "stream",
     "text": [
      "\u001b[1mRows: \u001b[22m\u001b[34m196\u001b[39m \u001b[1mColumns: \u001b[22m\u001b[34m7\u001b[39m\n",
      "\u001b[36m──\u001b[39m \u001b[1mColumn specification\u001b[22m \u001b[36m────────────────────────────────────────────────────────\u001b[39m\n",
      "\u001b[1mDelimiter:\u001b[22m \",\"\n",
      "\u001b[31mchr\u001b[39m (4): experience, hashedEmail, name, gender\n",
      "\u001b[32mdbl\u001b[39m (2): played_hours, Age\n",
      "\u001b[33mlgl\u001b[39m (1): subscribe\n",
      "\n",
      "\u001b[36mℹ\u001b[39m Use `spec()` to retrieve the full column specification for this data.\n",
      "\u001b[36mℹ\u001b[39m Specify the column types or set `show_col_types = FALSE` to quiet this message.\n"
     ]
    },
    {
     "data": {
      "text/html": [
       "<table class=\"dataframe\">\n",
       "<caption>A tibble: 6 × 7</caption>\n",
       "<thead>\n",
       "\t<tr><th scope=col>experience</th><th scope=col>subscribe</th><th scope=col>hashedEmail</th><th scope=col>played_hours</th><th scope=col>name</th><th scope=col>gender</th><th scope=col>Age</th></tr>\n",
       "\t<tr><th scope=col>&lt;chr&gt;</th><th scope=col>&lt;lgl&gt;</th><th scope=col>&lt;chr&gt;</th><th scope=col>&lt;dbl&gt;</th><th scope=col>&lt;chr&gt;</th><th scope=col>&lt;chr&gt;</th><th scope=col>&lt;dbl&gt;</th></tr>\n",
       "</thead>\n",
       "<tbody>\n",
       "\t<tr><td>Pro    </td><td> TRUE</td><td>f6daba428a5e19a3d47574858c13550499be23603422e6a0ee9728f8b53e192d</td><td>30.3</td><td>Morgan   </td><td>Male  </td><td> 9</td></tr>\n",
       "\t<tr><td>Veteran</td><td> TRUE</td><td>f3c813577c458ba0dfef80996f8f32c93b6e8af1fa939732842f2312358a88e9</td><td> 3.8</td><td>Christian</td><td>Male  </td><td>17</td></tr>\n",
       "\t<tr><td>Veteran</td><td>FALSE</td><td>b674dd7ee0d24096d1c019615ce4d12b20fcbff12d79d3c5a9d2118eb7ccbb28</td><td> 0.0</td><td>Blake    </td><td>Male  </td><td>17</td></tr>\n",
       "\t<tr><td>Amateur</td><td> TRUE</td><td>23fe711e0e3b77f1da7aa221ab1192afe21648d47d2b4fa7a5a659ff443a0eb5</td><td> 0.7</td><td>Flora    </td><td>Female</td><td>21</td></tr>\n",
       "\t<tr><td>Regular</td><td> TRUE</td><td>7dc01f10bf20671ecfccdac23812b1b415acd42c2147cb0af4d48fcce2420f3e</td><td> 0.1</td><td>Kylie    </td><td>Male  </td><td>21</td></tr>\n",
       "\t<tr><td>Amateur</td><td> TRUE</td><td>f58aad5996a435f16b0284a3b267f973f9af99e7a89bee0430055a44fa92f977</td><td> 0.0</td><td>Adrian   </td><td>Female</td><td>17</td></tr>\n",
       "</tbody>\n",
       "</table>\n"
      ],
      "text/latex": [
       "A tibble: 6 × 7\n",
       "\\begin{tabular}{lllllll}\n",
       " experience & subscribe & hashedEmail & played\\_hours & name & gender & Age\\\\\n",
       " <chr> & <lgl> & <chr> & <dbl> & <chr> & <chr> & <dbl>\\\\\n",
       "\\hline\n",
       "\t Pro     &  TRUE & f6daba428a5e19a3d47574858c13550499be23603422e6a0ee9728f8b53e192d & 30.3 & Morgan    & Male   &  9\\\\\n",
       "\t Veteran &  TRUE & f3c813577c458ba0dfef80996f8f32c93b6e8af1fa939732842f2312358a88e9 &  3.8 & Christian & Male   & 17\\\\\n",
       "\t Veteran & FALSE & b674dd7ee0d24096d1c019615ce4d12b20fcbff12d79d3c5a9d2118eb7ccbb28 &  0.0 & Blake     & Male   & 17\\\\\n",
       "\t Amateur &  TRUE & 23fe711e0e3b77f1da7aa221ab1192afe21648d47d2b4fa7a5a659ff443a0eb5 &  0.7 & Flora     & Female & 21\\\\\n",
       "\t Regular &  TRUE & 7dc01f10bf20671ecfccdac23812b1b415acd42c2147cb0af4d48fcce2420f3e &  0.1 & Kylie     & Male   & 21\\\\\n",
       "\t Amateur &  TRUE & f58aad5996a435f16b0284a3b267f973f9af99e7a89bee0430055a44fa92f977 &  0.0 & Adrian    & Female & 17\\\\\n",
       "\\end{tabular}\n"
      ],
      "text/markdown": [
       "\n",
       "A tibble: 6 × 7\n",
       "\n",
       "| experience &lt;chr&gt; | subscribe &lt;lgl&gt; | hashedEmail &lt;chr&gt; | played_hours &lt;dbl&gt; | name &lt;chr&gt; | gender &lt;chr&gt; | Age &lt;dbl&gt; |\n",
       "|---|---|---|---|---|---|---|\n",
       "| Pro     |  TRUE | f6daba428a5e19a3d47574858c13550499be23603422e6a0ee9728f8b53e192d | 30.3 | Morgan    | Male   |  9 |\n",
       "| Veteran |  TRUE | f3c813577c458ba0dfef80996f8f32c93b6e8af1fa939732842f2312358a88e9 |  3.8 | Christian | Male   | 17 |\n",
       "| Veteran | FALSE | b674dd7ee0d24096d1c019615ce4d12b20fcbff12d79d3c5a9d2118eb7ccbb28 |  0.0 | Blake     | Male   | 17 |\n",
       "| Amateur |  TRUE | 23fe711e0e3b77f1da7aa221ab1192afe21648d47d2b4fa7a5a659ff443a0eb5 |  0.7 | Flora     | Female | 21 |\n",
       "| Regular |  TRUE | 7dc01f10bf20671ecfccdac23812b1b415acd42c2147cb0af4d48fcce2420f3e |  0.1 | Kylie     | Male   | 21 |\n",
       "| Amateur |  TRUE | f58aad5996a435f16b0284a3b267f973f9af99e7a89bee0430055a44fa92f977 |  0.0 | Adrian    | Female | 17 |\n",
       "\n"
      ],
      "text/plain": [
       "  experience subscribe\n",
       "1 Pro         TRUE    \n",
       "2 Veteran     TRUE    \n",
       "3 Veteran    FALSE    \n",
       "4 Amateur     TRUE    \n",
       "5 Regular     TRUE    \n",
       "6 Amateur     TRUE    \n",
       "  hashedEmail                                                      played_hours\n",
       "1 f6daba428a5e19a3d47574858c13550499be23603422e6a0ee9728f8b53e192d 30.3        \n",
       "2 f3c813577c458ba0dfef80996f8f32c93b6e8af1fa939732842f2312358a88e9  3.8        \n",
       "3 b674dd7ee0d24096d1c019615ce4d12b20fcbff12d79d3c5a9d2118eb7ccbb28  0.0        \n",
       "4 23fe711e0e3b77f1da7aa221ab1192afe21648d47d2b4fa7a5a659ff443a0eb5  0.7        \n",
       "5 7dc01f10bf20671ecfccdac23812b1b415acd42c2147cb0af4d48fcce2420f3e  0.1        \n",
       "6 f58aad5996a435f16b0284a3b267f973f9af99e7a89bee0430055a44fa92f977  0.0        \n",
       "  name      gender Age\n",
       "1 Morgan    Male    9 \n",
       "2 Christian Male   17 \n",
       "3 Blake     Male   17 \n",
       "4 Flora     Female 21 \n",
       "5 Kylie     Male   21 \n",
       "6 Adrian    Female 17 "
      ]
     },
     "metadata": {},
     "output_type": "display_data"
    }
   ],
   "source": [
    "player <- read_csv(\"players.csv\")\n",
    "head (player)"
   ]
  },
  {
   "cell_type": "code",
   "execution_count": 4,
   "id": "810744f9-9a89-439a-98fe-f286e46e1e15",
   "metadata": {},
   "outputs": [
    {
     "data": {
      "text/html": [
       "<table class=\"dataframe\">\n",
       "<caption>A tibble: 6 × 3</caption>\n",
       "<thead>\n",
       "\t<tr><th scope=col>subscribe</th><th scope=col>played_hours</th><th scope=col>experience</th></tr>\n",
       "\t<tr><th scope=col>&lt;fct&gt;</th><th scope=col>&lt;dbl&gt;</th><th scope=col>&lt;fct&gt;</th></tr>\n",
       "</thead>\n",
       "<tbody>\n",
       "\t<tr><td>TRUE </td><td>30.3</td><td>Pro    </td></tr>\n",
       "\t<tr><td>TRUE </td><td> 3.8</td><td>Veteran</td></tr>\n",
       "\t<tr><td>FALSE</td><td> 0.0</td><td>Veteran</td></tr>\n",
       "\t<tr><td>TRUE </td><td> 0.7</td><td>Amateur</td></tr>\n",
       "\t<tr><td>TRUE </td><td> 0.1</td><td>Regular</td></tr>\n",
       "\t<tr><td>TRUE </td><td> 0.0</td><td>Amateur</td></tr>\n",
       "</tbody>\n",
       "</table>\n"
      ],
      "text/latex": [
       "A tibble: 6 × 3\n",
       "\\begin{tabular}{lll}\n",
       " subscribe & played\\_hours & experience\\\\\n",
       " <fct> & <dbl> & <fct>\\\\\n",
       "\\hline\n",
       "\t TRUE  & 30.3 & Pro    \\\\\n",
       "\t TRUE  &  3.8 & Veteran\\\\\n",
       "\t FALSE &  0.0 & Veteran\\\\\n",
       "\t TRUE  &  0.7 & Amateur\\\\\n",
       "\t TRUE  &  0.1 & Regular\\\\\n",
       "\t TRUE  &  0.0 & Amateur\\\\\n",
       "\\end{tabular}\n"
      ],
      "text/markdown": [
       "\n",
       "A tibble: 6 × 3\n",
       "\n",
       "| subscribe &lt;fct&gt; | played_hours &lt;dbl&gt; | experience &lt;fct&gt; |\n",
       "|---|---|---|\n",
       "| TRUE  | 30.3 | Pro     |\n",
       "| TRUE  |  3.8 | Veteran |\n",
       "| FALSE |  0.0 | Veteran |\n",
       "| TRUE  |  0.7 | Amateur |\n",
       "| TRUE  |  0.1 | Regular |\n",
       "| TRUE  |  0.0 | Amateur |\n",
       "\n"
      ],
      "text/plain": [
       "  subscribe played_hours experience\n",
       "1 TRUE      30.3         Pro       \n",
       "2 TRUE       3.8         Veteran   \n",
       "3 FALSE      0.0         Veteran   \n",
       "4 TRUE       0.7         Amateur   \n",
       "5 TRUE       0.1         Regular   \n",
       "6 TRUE       0.0         Amateur   "
      ]
     },
     "metadata": {},
     "output_type": "display_data"
    }
   ],
   "source": [
    "clean_player <- player|> \n",
    "select(subscribe, played_hours, experience) |>  \n",
    "  filter(!is.na(subscribe), !is.na(played_hours), !is.na(experience)) |>\n",
    "  mutate(subscribe = as_factor(subscribe),experience = as_factor(experience))\n",
    "\n",
    "head(clean_player)"
   ]
  },
  {
   "cell_type": "code",
   "execution_count": 17,
   "id": "d35fbb75-1aca-45fc-8d42-edd663c1ff10",
   "metadata": {},
   "outputs": [],
   "source": [
    "set.seed(1234) \n",
    "player_split <- initial_split(clean_player, prop = 0.8, strata = subscribe)\n",
    "player_training <- training(player_split)\n",
    "player_testing <- testing(player_split)"
   ]
  },
  {
   "cell_type": "code",
   "execution_count": 18,
   "id": "2c940df2-6a38-4a4a-b117-2653ffc48178",
   "metadata": {},
   "outputs": [],
   "source": [
    "knn_model <- nearest_neighbor(neighbors = 5, weight_func = \"rectangular\") |>\n",
    "  set_engine(\"kknn\") |>\n",
    "  set_mode(\"classification\")"
   ]
  },
  {
   "cell_type": "code",
   "execution_count": 21,
   "id": "b5d6cce0-82ac-4333-99d3-3aa2282afbc0",
   "metadata": {},
   "outputs": [
    {
     "data": {
      "text/plain": [
       "parsnip model object\n",
       "\n",
       "\n",
       "Call:\n",
       "kknn::train.kknn(formula = subscribe ~ played_hours + experience,     data = data, ks = min_rows(5, data, 5), kernel = ~\"rectangular\")\n",
       "\n",
       "Type of response variable: nominal\n",
       "Minimal misclassification: 0.3782051\n",
       "Best kernel: rectangular\n",
       "Best k: 5"
      ]
     },
     "metadata": {},
     "output_type": "display_data"
    }
   ],
   "source": [
    "knn_fit <- fit(knn_model, subscribe ~ played_hours + experience, data = player_training)\n",
    "knn_fit"
   ]
  },
  {
   "cell_type": "code",
   "execution_count": 23,
   "id": "1d849e1f-52ae-4cf9-95cb-751e5ce4a149",
   "metadata": {},
   "outputs": [
    {
     "data": {
      "text/html": [
       "<table class=\"dataframe\">\n",
       "<caption>A tibble: 6 × 4</caption>\n",
       "<thead>\n",
       "\t<tr><th scope=col>.pred_class</th><th scope=col>subscribe</th><th scope=col>played_hours</th><th scope=col>experience</th></tr>\n",
       "\t<tr><th scope=col>&lt;fct&gt;</th><th scope=col>&lt;fct&gt;</th><th scope=col>&lt;dbl&gt;</th><th scope=col>&lt;fct&gt;</th></tr>\n",
       "</thead>\n",
       "<tbody>\n",
       "\t<tr><td>TRUE </td><td>TRUE </td><td>30.3</td><td>Pro    </td></tr>\n",
       "\t<tr><td>FALSE</td><td>FALSE</td><td> 0.0</td><td>Veteran</td></tr>\n",
       "\t<tr><td>TRUE </td><td>TRUE </td><td> 0.1</td><td>Regular</td></tr>\n",
       "\t<tr><td>FALSE</td><td>TRUE </td><td> 0.0</td><td>Amateur</td></tr>\n",
       "\t<tr><td>TRUE </td><td>TRUE </td><td> 0.2</td><td>Amateur</td></tr>\n",
       "\t<tr><td>FALSE</td><td>TRUE </td><td> 0.0</td><td>Veteran</td></tr>\n",
       "</tbody>\n",
       "</table>\n"
      ],
      "text/latex": [
       "A tibble: 6 × 4\n",
       "\\begin{tabular}{llll}\n",
       " .pred\\_class & subscribe & played\\_hours & experience\\\\\n",
       " <fct> & <fct> & <dbl> & <fct>\\\\\n",
       "\\hline\n",
       "\t TRUE  & TRUE  & 30.3 & Pro    \\\\\n",
       "\t FALSE & FALSE &  0.0 & Veteran\\\\\n",
       "\t TRUE  & TRUE  &  0.1 & Regular\\\\\n",
       "\t FALSE & TRUE  &  0.0 & Amateur\\\\\n",
       "\t TRUE  & TRUE  &  0.2 & Amateur\\\\\n",
       "\t FALSE & TRUE  &  0.0 & Veteran\\\\\n",
       "\\end{tabular}\n"
      ],
      "text/markdown": [
       "\n",
       "A tibble: 6 × 4\n",
       "\n",
       "| .pred_class &lt;fct&gt; | subscribe &lt;fct&gt; | played_hours &lt;dbl&gt; | experience &lt;fct&gt; |\n",
       "|---|---|---|---|\n",
       "| TRUE  | TRUE  | 30.3 | Pro     |\n",
       "| FALSE | FALSE |  0.0 | Veteran |\n",
       "| TRUE  | TRUE  |  0.1 | Regular |\n",
       "| FALSE | TRUE  |  0.0 | Amateur |\n",
       "| TRUE  | TRUE  |  0.2 | Amateur |\n",
       "| FALSE | TRUE  |  0.0 | Veteran |\n",
       "\n"
      ],
      "text/plain": [
       "  .pred_class subscribe played_hours experience\n",
       "1 TRUE        TRUE      30.3         Pro       \n",
       "2 FALSE       FALSE      0.0         Veteran   \n",
       "3 TRUE        TRUE       0.1         Regular   \n",
       "4 FALSE       TRUE       0.0         Amateur   \n",
       "5 TRUE        TRUE       0.2         Amateur   \n",
       "6 FALSE       TRUE       0.0         Veteran   "
      ]
     },
     "metadata": {},
     "output_type": "display_data"
    }
   ],
   "source": [
    "knn_predictions <- predict(knn_fit, player_testing) |>\n",
    "  bind_cols(player_testing)\n",
    "head(knn_predictions)"
   ]
  },
  {
   "cell_type": "code",
   "execution_count": 24,
   "id": "f43c61a3-c96e-4ae9-b608-d8a8a733e9ae",
   "metadata": {},
   "outputs": [
    {
     "data": {
      "text/html": [
       "<table class=\"dataframe\">\n",
       "<caption>A tibble: 2 × 3</caption>\n",
       "<thead>\n",
       "\t<tr><th scope=col>.metric</th><th scope=col>.estimator</th><th scope=col>.estimate</th></tr>\n",
       "\t<tr><th scope=col>&lt;chr&gt;</th><th scope=col>&lt;chr&gt;</th><th scope=col>&lt;dbl&gt;</th></tr>\n",
       "</thead>\n",
       "<tbody>\n",
       "\t<tr><td>accuracy</td><td>binary</td><td> 0.475000000</td></tr>\n",
       "\t<tr><td>kap     </td><td>binary</td><td>-0.004784689</td></tr>\n",
       "</tbody>\n",
       "</table>\n"
      ],
      "text/latex": [
       "A tibble: 2 × 3\n",
       "\\begin{tabular}{lll}\n",
       " .metric & .estimator & .estimate\\\\\n",
       " <chr> & <chr> & <dbl>\\\\\n",
       "\\hline\n",
       "\t accuracy & binary &  0.475000000\\\\\n",
       "\t kap      & binary & -0.004784689\\\\\n",
       "\\end{tabular}\n"
      ],
      "text/markdown": [
       "\n",
       "A tibble: 2 × 3\n",
       "\n",
       "| .metric &lt;chr&gt; | .estimator &lt;chr&gt; | .estimate &lt;dbl&gt; |\n",
       "|---|---|---|\n",
       "| accuracy | binary |  0.475000000 |\n",
       "| kap      | binary | -0.004784689 |\n",
       "\n"
      ],
      "text/plain": [
       "  .metric  .estimator .estimate   \n",
       "1 accuracy binary      0.475000000\n",
       "2 kap      binary     -0.004784689"
      ]
     },
     "metadata": {},
     "output_type": "display_data"
    }
   ],
   "source": [
    "metrics(knn_predictions, truth = subscribe, estimate = .pred_class)"
   ]
  },
  {
   "cell_type": "code",
   "execution_count": 25,
   "id": "9cec7dc9-701a-4b25-9be0-574a4eef8e13",
   "metadata": {},
   "outputs": [
    {
     "data": {
      "text/plain": [
       "          Truth\n",
       "Prediction FALSE TRUE\n",
       "     FALSE     6   16\n",
       "     TRUE      5   13"
      ]
     },
     "metadata": {},
     "output_type": "display_data"
    }
   ],
   "source": [
    "conf_mat(knn_predictions, truth = subscribe, estimate = .pred_class)"
   ]
  },
  {
   "cell_type": "code",
   "execution_count": null,
   "id": "e565137a-4628-4315-8a29-22a49a52010b",
   "metadata": {},
   "outputs": [],
   "source": []
  },
  {
   "cell_type": "code",
   "execution_count": null,
   "id": "3c9f073b-5c7b-4e39-bd3d-29f30d573a60",
   "metadata": {},
   "outputs": [],
   "source": []
  },
  {
   "cell_type": "code",
   "execution_count": null,
   "id": "6e59cfad-30da-4a73-92be-d1eca1d0e7af",
   "metadata": {},
   "outputs": [],
   "source": []
  }
 ],
 "metadata": {
  "kernelspec": {
   "display_name": "R",
   "language": "R",
   "name": "ir"
  },
  "language_info": {
   "codemirror_mode": "r",
   "file_extension": ".r",
   "mimetype": "text/x-r-source",
   "name": "R",
   "pygments_lexer": "r",
   "version": "4.3.3"
  }
 },
 "nbformat": 4,
 "nbformat_minor": 5
}
